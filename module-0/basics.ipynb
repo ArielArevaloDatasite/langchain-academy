{
 "cells": [
  {
   "cell_type": "markdown",
   "id": "660ce795-9307-4c2c-98a1-beabcb36c740",
   "metadata": {},
   "source": [
    "[![Open in Colab](https://colab.research.google.com/assets/colab-badge.svg)](https://colab.research.google.com/github/langchain-ai/langchain-academy/blob/main/module-0/basics.ipynb) [![Open in LangChain Academy](https://cdn.prod.website-files.com/65b8cd72835ceeacd4449a53/66e9eba12c7b7688aa3dbb5e_LCA-badge-green.svg)](https://academy.langchain.com/courses/take/intro-to-langgraph/lessons/56295530-getting-set-up-video-guide)"
   ]
  },
  {
   "cell_type": "markdown",
   "id": "ef597741-3211-4ecc-92f7-f58023ee237e",
   "metadata": {},
   "source": [
    "# LangChain Academy\n",
    "\n",
    "Welcome to LangChain Academy! \n",
    "\n",
    "## Context\n",
    "\n",
    "At LangChain, we aim to make it easy to build LLM applications. One type of LLM application you can build is an agent. There’s a lot of excitement around building agents because they can automate a wide range of tasks that were previously impossible. \n",
    "\n",
    "In practice though, it is incredibly difficult to build systems that reliably execute on these tasks. As we’ve worked with our users to put agents into production, we’ve learned that more control is often necessary. You might need an agent to always call a specific tool first or use different prompts based on its state. \n",
    "\n",
    "To tackle this problem, we’ve built [LangGraph](https://langchain-ai.github.io/langgraph/) — a framework for building agent and multi-agent applications. Separate from the LangChain package, LangGraph’s core design philosophy is to help developers add better precision and control into agent workflows, suitable for the complexity of real-world systems.\n",
    "\n",
    "## Course Structure\n",
    "\n",
    "The course is structured as a set of modules, with each module focused on a particular theme related to LangGraph. You will see a folder for each module, which contains a series of notebooks. A video will accompany each notebook to help walk through the concepts, but the notebooks are also stand-alone, meaning that they contain explanations and can be viewed independently of the videos. Each module folder also contains a `studio` folder, which contains a set of graphs that can be loaded into [LangGraph Studio](https://github.com/langchain-ai/langgraph-studio), our IDE for building LangGraph applications.\n",
    "\n",
    "## Setup\n",
    "\n",
    "Before you begin, please follow the instructions in the `README` to create an environment and install dependencies.\n",
    "\n",
    "## Chat models\n",
    "\n",
    "In this course, we'll be using [Chat Models](https://python.langchain.com/v0.2/docs/concepts/#chat-models), which do a few things take a sequence of messages as inputs and return chat messages as outputs. LangChain does not host any Chat Models, rather we rely on third party integrations. [Here](https://python.langchain.com/v0.2/docs/integrations/chat/) is a list of 3rd party chat model integrations within LangChain! By default, the course will use [ChatOpenAI](https://python.langchain.com/v0.2/docs/integrations/chat/openai/) because it is both popular and performant. As noted, please ensure that you have an `OPENAI_API_KEY`.\n",
    "\n",
    "Let's check that your `OPENAI_API_KEY` is set and, if not, you will be asked to enter it."
   ]
  },
  {
   "cell_type": "code",
   "id": "0f9a52c8",
   "metadata": {
    "ExecuteTime": {
     "end_time": "2025-02-22T05:41:23.128967Z",
     "start_time": "2025-02-22T05:41:21.615792Z"
    }
   },
   "source": [
    "%%capture --no-stderr\n",
    "%pip install --quiet -U langchain_openai langchain_core langchain_community tavily-python"
   ],
   "outputs": [],
   "execution_count": 1
  },
  {
   "cell_type": "code",
   "id": "c2a15227",
   "metadata": {
    "ExecuteTime": {
     "end_time": "2025-02-22T05:41:24.234802Z",
     "start_time": "2025-02-22T05:41:23.132780Z"
    }
   },
   "source": [
    "import os, getpass\n",
    "from dotenv import load_dotenv\n",
    "load_dotenv()\n",
    "\n",
    "def _set_env(var: str):\n",
    "    if not os.environ.get(var):\n",
    "        os.environ[var] = getpass.getpass(f\"{var}: \")\n",
    "\n",
    "_set_env(\"OPENAI_API_KEY\")"
   ],
   "outputs": [],
   "execution_count": 2
  },
  {
   "cell_type": "markdown",
   "id": "a326f35b",
   "metadata": {},
   "source": [
    "[Here](https://python.langchain.com/v0.2/docs/how_to/#chat-models) is a useful how-to for all the things that you can do with chat models, but we'll show a few highlights below. If you've run `pip install -r requirements.txt` as noted in the README, then you've installed the `langchain-openai` package. With this, we can instantiate our `ChatOpenAI` model object. If you are signing up for the API for the first time, you should receive [free credits](https://community.openai.com/t/understanding-api-limits-and-free-tier/498517) that can be applied to any of the models. You can see pricing for various models [here](https://openai.com/api/pricing/). The notebooks will default to `gpt-4o` because it's a good balance of quality, price, and speed [see more here](https://help.openai.com/en/articles/7102672-how-can-i-access-gpt-4-gpt-4-turbo-gpt-4o-and-gpt-4o-mini), but you can also opt for the lower priced `gpt-3.5` series models. \n",
    "\n",
    "There are [a few standard parameters](https://python.langchain.com/v0.2/docs/concepts/#chat-models) that we can set with chat models. Two of the most common are:\n",
    "\n",
    "* `model`: the name of the model\n",
    "* `temperature`: the sampling temperature\n",
    "\n",
    "`Temperature` controls the randomness or creativity of the model's output where low temperature (close to 0) is more deterministic and focused outputs. This is good for tasks requiring accuracy or factual responses. High temperature (close to 1) is good for creative tasks or generating varied responses. "
   ]
  },
  {
   "cell_type": "code",
   "id": "e19a54d3",
   "metadata": {
    "ExecuteTime": {
     "end_time": "2025-02-22T05:41:42.267871Z",
     "start_time": "2025-02-22T05:41:41.584138Z"
    }
   },
   "source": [
    "from langchain_openai import AzureChatOpenAI\n",
    "gpt4o_chat = AzureChatOpenAI(model=\"gpt-4o\", temperature=0)\n",
    "gpt35_chat = AzureChatOpenAI(model=\"gpt-3.5-turbo-0125\", temperature=0)"
   ],
   "outputs": [],
   "execution_count": 3
  },
  {
   "cell_type": "markdown",
   "id": "28450d1b",
   "metadata": {},
   "source": [
    "Chat models in LangChain have a number of [default methods](https://python.langchain.com/v0.2/docs/concepts/#runnable-interface). For the most part, we'll be using:\n",
    "\n",
    "* `stream`: stream back chunks of the response\n",
    "* `invoke`: call the chain on an input\n",
    "\n",
    "And, as mentioned, chat models take [messages](https://python.langchain.com/v0.2/docs/concepts/#messages) as input. Messages have a role (that describes who is saying the message) and a content property. We'll be talking a lot more about this later, but here let's just show the basics."
   ]
  },
  {
   "cell_type": "code",
   "id": "b1280e1b",
   "metadata": {
    "ExecuteTime": {
     "end_time": "2025-02-22T05:42:04.887035Z",
     "start_time": "2025-02-22T05:42:04.124416Z"
    }
   },
   "source": [
    "from langchain_core.messages import HumanMessage\n",
    "\n",
    "# Create a message\n",
    "msg = HumanMessage(content=\"Hello world\", name=\"Lance\")\n",
    "\n",
    "# Message list\n",
    "messages = [msg]\n",
    "\n",
    "# Invoke the model with a list of messages \n",
    "gpt4o_chat.invoke(messages)"
   ],
   "outputs": [
    {
     "data": {
      "text/plain": [
       "AIMessage(content='Hello! How can I assist you today?', additional_kwargs={'refusal': None}, response_metadata={'token_usage': {'completion_tokens': 9, 'prompt_tokens': 11, 'total_tokens': 20, 'completion_tokens_details': {'accepted_prediction_tokens': 0, 'audio_tokens': 0, 'reasoning_tokens': 0, 'rejected_prediction_tokens': 0}, 'prompt_tokens_details': {'audio_tokens': 0, 'cached_tokens': 0}}, 'model_name': 'gpt-4o-2024-05-13', 'system_fingerprint': 'fp_b705f0c291', 'prompt_filter_results': [{'prompt_index': 0, 'content_filter_results': {'hate': {'filtered': False, 'severity': 'safe'}, 'self_harm': {'filtered': False, 'severity': 'safe'}, 'sexual': {'filtered': False, 'severity': 'safe'}, 'violence': {'filtered': False, 'severity': 'safe'}}}], 'finish_reason': 'stop', 'logprobs': None, 'content_filter_results': {'hate': {'filtered': False, 'severity': 'safe'}, 'self_harm': {'filtered': False, 'severity': 'safe'}, 'sexual': {'filtered': False, 'severity': 'safe'}, 'violence': {'filtered': False, 'severity': 'safe'}}}, id='run-b82bc28d-fe76-4266-a940-5ca1b891d602-0', usage_metadata={'input_tokens': 11, 'output_tokens': 9, 'total_tokens': 20, 'input_token_details': {'audio': 0, 'cache_read': 0}, 'output_token_details': {'audio': 0, 'reasoning': 0}})"
      ]
     },
     "execution_count": 4,
     "metadata": {},
     "output_type": "execute_result"
    }
   ],
   "execution_count": 4
  },
  {
   "cell_type": "markdown",
   "id": "cac73e4c",
   "metadata": {},
   "source": [
    "We get an `AIMessage` response. Also, note that we can just invoke a chat model with a string. When a string is passed in as input, it is converted to a `HumanMessage` and then passed to the underlying model.\n"
   ]
  },
  {
   "cell_type": "code",
   "id": "f27c6c9a",
   "metadata": {
    "ExecuteTime": {
     "end_time": "2025-02-22T05:43:27.689593Z",
     "start_time": "2025-02-22T05:43:26.995106Z"
    }
   },
   "source": [
    "gpt4o_chat.invoke(\"hello world\")"
   ],
   "outputs": [
    {
     "data": {
      "text/plain": [
       "AIMessage(content='Hello! How can I assist you today?', additional_kwargs={'refusal': None}, response_metadata={'token_usage': {'completion_tokens': 9, 'prompt_tokens': 9, 'total_tokens': 18, 'completion_tokens_details': {'accepted_prediction_tokens': 0, 'audio_tokens': 0, 'reasoning_tokens': 0, 'rejected_prediction_tokens': 0}, 'prompt_tokens_details': {'audio_tokens': 0, 'cached_tokens': 0}}, 'model_name': 'gpt-4o-2024-05-13', 'system_fingerprint': 'fp_b705f0c291', 'prompt_filter_results': [{'prompt_index': 0, 'content_filter_results': {'hate': {'filtered': False, 'severity': 'safe'}, 'self_harm': {'filtered': False, 'severity': 'safe'}, 'sexual': {'filtered': False, 'severity': 'safe'}, 'violence': {'filtered': False, 'severity': 'safe'}}}], 'finish_reason': 'stop', 'logprobs': None, 'content_filter_results': {'hate': {'filtered': False, 'severity': 'safe'}, 'self_harm': {'filtered': False, 'severity': 'safe'}, 'sexual': {'filtered': False, 'severity': 'safe'}, 'violence': {'filtered': False, 'severity': 'safe'}}}, id='run-b04eb33e-face-4012-ad52-e7a3b06f3da9-0', usage_metadata={'input_tokens': 9, 'output_tokens': 9, 'total_tokens': 18, 'input_token_details': {'audio': 0, 'cache_read': 0}, 'output_token_details': {'audio': 0, 'reasoning': 0}})"
      ]
     },
     "execution_count": 5,
     "metadata": {},
     "output_type": "execute_result"
    }
   ],
   "execution_count": 5
  },
  {
   "cell_type": "code",
   "id": "fdc2f0ca",
   "metadata": {
    "ExecuteTime": {
     "end_time": "2025-02-22T05:43:37.651751Z",
     "start_time": "2025-02-22T05:43:37.015157Z"
    }
   },
   "source": [
    "gpt35_chat.invoke(\"hello world\")"
   ],
   "outputs": [
    {
     "ename": "NotFoundError",
     "evalue": "Error code: 404 - {'error': {'code': 'DeploymentNotFound', 'message': 'The API deployment for this resource does not exist. If you created the deployment within the last 5 minutes, please wait a moment and try again.'}}",
     "output_type": "error",
     "traceback": [
      "\u001B[0;31m---------------------------------------------------------------------------\u001B[0m",
      "\u001B[0;31mNotFoundError\u001B[0m                             Traceback (most recent call last)",
      "Cell \u001B[0;32mIn[6], line 1\u001B[0m\n\u001B[0;32m----> 1\u001B[0m \u001B[43mgpt35_chat\u001B[49m\u001B[38;5;241;43m.\u001B[39;49m\u001B[43minvoke\u001B[49m\u001B[43m(\u001B[49m\u001B[38;5;124;43m\"\u001B[39;49m\u001B[38;5;124;43mhello world\u001B[39;49m\u001B[38;5;124;43m\"\u001B[39;49m\u001B[43m)\u001B[49m\n",
      "File \u001B[0;32m~/Workspace/langchain-academy/.venv/lib/python3.11/site-packages/langchain_core/language_models/chat_models.py:284\u001B[0m, in \u001B[0;36mBaseChatModel.invoke\u001B[0;34m(self, input, config, stop, **kwargs)\u001B[0m\n\u001B[1;32m    273\u001B[0m \u001B[38;5;28;01mdef\u001B[39;00m\u001B[38;5;250m \u001B[39m\u001B[38;5;21minvoke\u001B[39m(\n\u001B[1;32m    274\u001B[0m     \u001B[38;5;28mself\u001B[39m,\n\u001B[1;32m    275\u001B[0m     \u001B[38;5;28minput\u001B[39m: LanguageModelInput,\n\u001B[0;32m   (...)\u001B[0m\n\u001B[1;32m    279\u001B[0m     \u001B[38;5;241m*\u001B[39m\u001B[38;5;241m*\u001B[39mkwargs: Any,\n\u001B[1;32m    280\u001B[0m ) \u001B[38;5;241m-\u001B[39m\u001B[38;5;241m>\u001B[39m BaseMessage:\n\u001B[1;32m    281\u001B[0m     config \u001B[38;5;241m=\u001B[39m ensure_config(config)\n\u001B[1;32m    282\u001B[0m     \u001B[38;5;28;01mreturn\u001B[39;00m cast(\n\u001B[1;32m    283\u001B[0m         ChatGeneration,\n\u001B[0;32m--> 284\u001B[0m         \u001B[38;5;28;43mself\u001B[39;49m\u001B[38;5;241;43m.\u001B[39;49m\u001B[43mgenerate_prompt\u001B[49m\u001B[43m(\u001B[49m\n\u001B[1;32m    285\u001B[0m \u001B[43m            \u001B[49m\u001B[43m[\u001B[49m\u001B[38;5;28;43mself\u001B[39;49m\u001B[38;5;241;43m.\u001B[39;49m\u001B[43m_convert_input\u001B[49m\u001B[43m(\u001B[49m\u001B[38;5;28;43minput\u001B[39;49m\u001B[43m)\u001B[49m\u001B[43m]\u001B[49m\u001B[43m,\u001B[49m\n\u001B[1;32m    286\u001B[0m \u001B[43m            \u001B[49m\u001B[43mstop\u001B[49m\u001B[38;5;241;43m=\u001B[39;49m\u001B[43mstop\u001B[49m\u001B[43m,\u001B[49m\n\u001B[1;32m    287\u001B[0m \u001B[43m            \u001B[49m\u001B[43mcallbacks\u001B[49m\u001B[38;5;241;43m=\u001B[39;49m\u001B[43mconfig\u001B[49m\u001B[38;5;241;43m.\u001B[39;49m\u001B[43mget\u001B[49m\u001B[43m(\u001B[49m\u001B[38;5;124;43m\"\u001B[39;49m\u001B[38;5;124;43mcallbacks\u001B[39;49m\u001B[38;5;124;43m\"\u001B[39;49m\u001B[43m)\u001B[49m\u001B[43m,\u001B[49m\n\u001B[1;32m    288\u001B[0m \u001B[43m            \u001B[49m\u001B[43mtags\u001B[49m\u001B[38;5;241;43m=\u001B[39;49m\u001B[43mconfig\u001B[49m\u001B[38;5;241;43m.\u001B[39;49m\u001B[43mget\u001B[49m\u001B[43m(\u001B[49m\u001B[38;5;124;43m\"\u001B[39;49m\u001B[38;5;124;43mtags\u001B[39;49m\u001B[38;5;124;43m\"\u001B[39;49m\u001B[43m)\u001B[49m\u001B[43m,\u001B[49m\n\u001B[1;32m    289\u001B[0m \u001B[43m            \u001B[49m\u001B[43mmetadata\u001B[49m\u001B[38;5;241;43m=\u001B[39;49m\u001B[43mconfig\u001B[49m\u001B[38;5;241;43m.\u001B[39;49m\u001B[43mget\u001B[49m\u001B[43m(\u001B[49m\u001B[38;5;124;43m\"\u001B[39;49m\u001B[38;5;124;43mmetadata\u001B[39;49m\u001B[38;5;124;43m\"\u001B[39;49m\u001B[43m)\u001B[49m\u001B[43m,\u001B[49m\n\u001B[1;32m    290\u001B[0m \u001B[43m            \u001B[49m\u001B[43mrun_name\u001B[49m\u001B[38;5;241;43m=\u001B[39;49m\u001B[43mconfig\u001B[49m\u001B[38;5;241;43m.\u001B[39;49m\u001B[43mget\u001B[49m\u001B[43m(\u001B[49m\u001B[38;5;124;43m\"\u001B[39;49m\u001B[38;5;124;43mrun_name\u001B[39;49m\u001B[38;5;124;43m\"\u001B[39;49m\u001B[43m)\u001B[49m\u001B[43m,\u001B[49m\n\u001B[1;32m    291\u001B[0m \u001B[43m            \u001B[49m\u001B[43mrun_id\u001B[49m\u001B[38;5;241;43m=\u001B[39;49m\u001B[43mconfig\u001B[49m\u001B[38;5;241;43m.\u001B[39;49m\u001B[43mpop\u001B[49m\u001B[43m(\u001B[49m\u001B[38;5;124;43m\"\u001B[39;49m\u001B[38;5;124;43mrun_id\u001B[39;49m\u001B[38;5;124;43m\"\u001B[39;49m\u001B[43m,\u001B[49m\u001B[43m \u001B[49m\u001B[38;5;28;43;01mNone\u001B[39;49;00m\u001B[43m)\u001B[49m\u001B[43m,\u001B[49m\n\u001B[1;32m    292\u001B[0m \u001B[43m            \u001B[49m\u001B[38;5;241;43m*\u001B[39;49m\u001B[38;5;241;43m*\u001B[39;49m\u001B[43mkwargs\u001B[49m\u001B[43m,\u001B[49m\n\u001B[1;32m    293\u001B[0m \u001B[43m        \u001B[49m\u001B[43m)\u001B[49m\u001B[38;5;241m.\u001B[39mgenerations[\u001B[38;5;241m0\u001B[39m][\u001B[38;5;241m0\u001B[39m],\n\u001B[1;32m    294\u001B[0m     )\u001B[38;5;241m.\u001B[39mmessage\n",
      "File \u001B[0;32m~/Workspace/langchain-academy/.venv/lib/python3.11/site-packages/langchain_core/language_models/chat_models.py:860\u001B[0m, in \u001B[0;36mBaseChatModel.generate_prompt\u001B[0;34m(self, prompts, stop, callbacks, **kwargs)\u001B[0m\n\u001B[1;32m    852\u001B[0m \u001B[38;5;28;01mdef\u001B[39;00m\u001B[38;5;250m \u001B[39m\u001B[38;5;21mgenerate_prompt\u001B[39m(\n\u001B[1;32m    853\u001B[0m     \u001B[38;5;28mself\u001B[39m,\n\u001B[1;32m    854\u001B[0m     prompts: \u001B[38;5;28mlist\u001B[39m[PromptValue],\n\u001B[0;32m   (...)\u001B[0m\n\u001B[1;32m    857\u001B[0m     \u001B[38;5;241m*\u001B[39m\u001B[38;5;241m*\u001B[39mkwargs: Any,\n\u001B[1;32m    858\u001B[0m ) \u001B[38;5;241m-\u001B[39m\u001B[38;5;241m>\u001B[39m LLMResult:\n\u001B[1;32m    859\u001B[0m     prompt_messages \u001B[38;5;241m=\u001B[39m [p\u001B[38;5;241m.\u001B[39mto_messages() \u001B[38;5;28;01mfor\u001B[39;00m p \u001B[38;5;129;01min\u001B[39;00m prompts]\n\u001B[0;32m--> 860\u001B[0m     \u001B[38;5;28;01mreturn\u001B[39;00m \u001B[38;5;28;43mself\u001B[39;49m\u001B[38;5;241;43m.\u001B[39;49m\u001B[43mgenerate\u001B[49m\u001B[43m(\u001B[49m\u001B[43mprompt_messages\u001B[49m\u001B[43m,\u001B[49m\u001B[43m \u001B[49m\u001B[43mstop\u001B[49m\u001B[38;5;241;43m=\u001B[39;49m\u001B[43mstop\u001B[49m\u001B[43m,\u001B[49m\u001B[43m \u001B[49m\u001B[43mcallbacks\u001B[49m\u001B[38;5;241;43m=\u001B[39;49m\u001B[43mcallbacks\u001B[49m\u001B[43m,\u001B[49m\u001B[43m \u001B[49m\u001B[38;5;241;43m*\u001B[39;49m\u001B[38;5;241;43m*\u001B[39;49m\u001B[43mkwargs\u001B[49m\u001B[43m)\u001B[49m\n",
      "File \u001B[0;32m~/Workspace/langchain-academy/.venv/lib/python3.11/site-packages/langchain_core/language_models/chat_models.py:690\u001B[0m, in \u001B[0;36mBaseChatModel.generate\u001B[0;34m(self, messages, stop, callbacks, tags, metadata, run_name, run_id, **kwargs)\u001B[0m\n\u001B[1;32m    687\u001B[0m \u001B[38;5;28;01mfor\u001B[39;00m i, m \u001B[38;5;129;01min\u001B[39;00m \u001B[38;5;28menumerate\u001B[39m(messages):\n\u001B[1;32m    688\u001B[0m     \u001B[38;5;28;01mtry\u001B[39;00m:\n\u001B[1;32m    689\u001B[0m         results\u001B[38;5;241m.\u001B[39mappend(\n\u001B[0;32m--> 690\u001B[0m             \u001B[38;5;28;43mself\u001B[39;49m\u001B[38;5;241;43m.\u001B[39;49m\u001B[43m_generate_with_cache\u001B[49m\u001B[43m(\u001B[49m\n\u001B[1;32m    691\u001B[0m \u001B[43m                \u001B[49m\u001B[43mm\u001B[49m\u001B[43m,\u001B[49m\n\u001B[1;32m    692\u001B[0m \u001B[43m                \u001B[49m\u001B[43mstop\u001B[49m\u001B[38;5;241;43m=\u001B[39;49m\u001B[43mstop\u001B[49m\u001B[43m,\u001B[49m\n\u001B[1;32m    693\u001B[0m \u001B[43m                \u001B[49m\u001B[43mrun_manager\u001B[49m\u001B[38;5;241;43m=\u001B[39;49m\u001B[43mrun_managers\u001B[49m\u001B[43m[\u001B[49m\u001B[43mi\u001B[49m\u001B[43m]\u001B[49m\u001B[43m \u001B[49m\u001B[38;5;28;43;01mif\u001B[39;49;00m\u001B[43m \u001B[49m\u001B[43mrun_managers\u001B[49m\u001B[43m \u001B[49m\u001B[38;5;28;43;01melse\u001B[39;49;00m\u001B[43m \u001B[49m\u001B[38;5;28;43;01mNone\u001B[39;49;00m\u001B[43m,\u001B[49m\n\u001B[1;32m    694\u001B[0m \u001B[43m                \u001B[49m\u001B[38;5;241;43m*\u001B[39;49m\u001B[38;5;241;43m*\u001B[39;49m\u001B[43mkwargs\u001B[49m\u001B[43m,\u001B[49m\n\u001B[1;32m    695\u001B[0m \u001B[43m            \u001B[49m\u001B[43m)\u001B[49m\n\u001B[1;32m    696\u001B[0m         )\n\u001B[1;32m    697\u001B[0m     \u001B[38;5;28;01mexcept\u001B[39;00m \u001B[38;5;167;01mBaseException\u001B[39;00m \u001B[38;5;28;01mas\u001B[39;00m e:\n\u001B[1;32m    698\u001B[0m         \u001B[38;5;28;01mif\u001B[39;00m run_managers:\n",
      "File \u001B[0;32m~/Workspace/langchain-academy/.venv/lib/python3.11/site-packages/langchain_core/language_models/chat_models.py:925\u001B[0m, in \u001B[0;36mBaseChatModel._generate_with_cache\u001B[0;34m(self, messages, stop, run_manager, **kwargs)\u001B[0m\n\u001B[1;32m    923\u001B[0m \u001B[38;5;28;01melse\u001B[39;00m:\n\u001B[1;32m    924\u001B[0m     \u001B[38;5;28;01mif\u001B[39;00m inspect\u001B[38;5;241m.\u001B[39msignature(\u001B[38;5;28mself\u001B[39m\u001B[38;5;241m.\u001B[39m_generate)\u001B[38;5;241m.\u001B[39mparameters\u001B[38;5;241m.\u001B[39mget(\u001B[38;5;124m\"\u001B[39m\u001B[38;5;124mrun_manager\u001B[39m\u001B[38;5;124m\"\u001B[39m):\n\u001B[0;32m--> 925\u001B[0m         result \u001B[38;5;241m=\u001B[39m \u001B[38;5;28;43mself\u001B[39;49m\u001B[38;5;241;43m.\u001B[39;49m\u001B[43m_generate\u001B[49m\u001B[43m(\u001B[49m\n\u001B[1;32m    926\u001B[0m \u001B[43m            \u001B[49m\u001B[43mmessages\u001B[49m\u001B[43m,\u001B[49m\u001B[43m \u001B[49m\u001B[43mstop\u001B[49m\u001B[38;5;241;43m=\u001B[39;49m\u001B[43mstop\u001B[49m\u001B[43m,\u001B[49m\u001B[43m \u001B[49m\u001B[43mrun_manager\u001B[49m\u001B[38;5;241;43m=\u001B[39;49m\u001B[43mrun_manager\u001B[49m\u001B[43m,\u001B[49m\u001B[43m \u001B[49m\u001B[38;5;241;43m*\u001B[39;49m\u001B[38;5;241;43m*\u001B[39;49m\u001B[43mkwargs\u001B[49m\n\u001B[1;32m    927\u001B[0m \u001B[43m        \u001B[49m\u001B[43m)\u001B[49m\n\u001B[1;32m    928\u001B[0m     \u001B[38;5;28;01melse\u001B[39;00m:\n\u001B[1;32m    929\u001B[0m         result \u001B[38;5;241m=\u001B[39m \u001B[38;5;28mself\u001B[39m\u001B[38;5;241m.\u001B[39m_generate(messages, stop\u001B[38;5;241m=\u001B[39mstop, \u001B[38;5;241m*\u001B[39m\u001B[38;5;241m*\u001B[39mkwargs)\n",
      "File \u001B[0;32m~/Workspace/langchain-academy/.venv/lib/python3.11/site-packages/langchain_openai/chat_models/base.py:783\u001B[0m, in \u001B[0;36mBaseChatOpenAI._generate\u001B[0;34m(self, messages, stop, run_manager, **kwargs)\u001B[0m\n\u001B[1;32m    781\u001B[0m     generation_info \u001B[38;5;241m=\u001B[39m {\u001B[38;5;124m\"\u001B[39m\u001B[38;5;124mheaders\u001B[39m\u001B[38;5;124m\"\u001B[39m: \u001B[38;5;28mdict\u001B[39m(raw_response\u001B[38;5;241m.\u001B[39mheaders)}\n\u001B[1;32m    782\u001B[0m \u001B[38;5;28;01melse\u001B[39;00m:\n\u001B[0;32m--> 783\u001B[0m     response \u001B[38;5;241m=\u001B[39m \u001B[38;5;28;43mself\u001B[39;49m\u001B[38;5;241;43m.\u001B[39;49m\u001B[43mclient\u001B[49m\u001B[38;5;241;43m.\u001B[39;49m\u001B[43mcreate\u001B[49m\u001B[43m(\u001B[49m\u001B[38;5;241;43m*\u001B[39;49m\u001B[38;5;241;43m*\u001B[39;49m\u001B[43mpayload\u001B[49m\u001B[43m)\u001B[49m\n\u001B[1;32m    784\u001B[0m \u001B[38;5;28;01mreturn\u001B[39;00m \u001B[38;5;28mself\u001B[39m\u001B[38;5;241m.\u001B[39m_create_chat_result(response, generation_info)\n",
      "File \u001B[0;32m~/Workspace/langchain-academy/.venv/lib/python3.11/site-packages/openai/_utils/_utils.py:279\u001B[0m, in \u001B[0;36mrequired_args.<locals>.inner.<locals>.wrapper\u001B[0;34m(*args, **kwargs)\u001B[0m\n\u001B[1;32m    277\u001B[0m             msg \u001B[38;5;241m=\u001B[39m \u001B[38;5;124mf\u001B[39m\u001B[38;5;124m\"\u001B[39m\u001B[38;5;124mMissing required argument: \u001B[39m\u001B[38;5;132;01m{\u001B[39;00mquote(missing[\u001B[38;5;241m0\u001B[39m])\u001B[38;5;132;01m}\u001B[39;00m\u001B[38;5;124m\"\u001B[39m\n\u001B[1;32m    278\u001B[0m     \u001B[38;5;28;01mraise\u001B[39;00m \u001B[38;5;167;01mTypeError\u001B[39;00m(msg)\n\u001B[0;32m--> 279\u001B[0m \u001B[38;5;28;01mreturn\u001B[39;00m \u001B[43mfunc\u001B[49m\u001B[43m(\u001B[49m\u001B[38;5;241;43m*\u001B[39;49m\u001B[43margs\u001B[49m\u001B[43m,\u001B[49m\u001B[43m \u001B[49m\u001B[38;5;241;43m*\u001B[39;49m\u001B[38;5;241;43m*\u001B[39;49m\u001B[43mkwargs\u001B[49m\u001B[43m)\u001B[49m\n",
      "File \u001B[0;32m~/Workspace/langchain-academy/.venv/lib/python3.11/site-packages/openai/resources/chat/completions/completions.py:879\u001B[0m, in \u001B[0;36mCompletions.create\u001B[0;34m(self, messages, model, audio, frequency_penalty, function_call, functions, logit_bias, logprobs, max_completion_tokens, max_tokens, metadata, modalities, n, parallel_tool_calls, prediction, presence_penalty, reasoning_effort, response_format, seed, service_tier, stop, store, stream, stream_options, temperature, tool_choice, tools, top_logprobs, top_p, user, extra_headers, extra_query, extra_body, timeout)\u001B[0m\n\u001B[1;32m    837\u001B[0m \u001B[38;5;129m@required_args\u001B[39m([\u001B[38;5;124m\"\u001B[39m\u001B[38;5;124mmessages\u001B[39m\u001B[38;5;124m\"\u001B[39m, \u001B[38;5;124m\"\u001B[39m\u001B[38;5;124mmodel\u001B[39m\u001B[38;5;124m\"\u001B[39m], [\u001B[38;5;124m\"\u001B[39m\u001B[38;5;124mmessages\u001B[39m\u001B[38;5;124m\"\u001B[39m, \u001B[38;5;124m\"\u001B[39m\u001B[38;5;124mmodel\u001B[39m\u001B[38;5;124m\"\u001B[39m, \u001B[38;5;124m\"\u001B[39m\u001B[38;5;124mstream\u001B[39m\u001B[38;5;124m\"\u001B[39m])\n\u001B[1;32m    838\u001B[0m \u001B[38;5;28;01mdef\u001B[39;00m\u001B[38;5;250m \u001B[39m\u001B[38;5;21mcreate\u001B[39m(\n\u001B[1;32m    839\u001B[0m     \u001B[38;5;28mself\u001B[39m,\n\u001B[0;32m   (...)\u001B[0m\n\u001B[1;32m    876\u001B[0m     timeout: \u001B[38;5;28mfloat\u001B[39m \u001B[38;5;241m|\u001B[39m httpx\u001B[38;5;241m.\u001B[39mTimeout \u001B[38;5;241m|\u001B[39m \u001B[38;5;28;01mNone\u001B[39;00m \u001B[38;5;241m|\u001B[39m NotGiven \u001B[38;5;241m=\u001B[39m NOT_GIVEN,\n\u001B[1;32m    877\u001B[0m ) \u001B[38;5;241m-\u001B[39m\u001B[38;5;241m>\u001B[39m ChatCompletion \u001B[38;5;241m|\u001B[39m Stream[ChatCompletionChunk]:\n\u001B[1;32m    878\u001B[0m     validate_response_format(response_format)\n\u001B[0;32m--> 879\u001B[0m     \u001B[38;5;28;01mreturn\u001B[39;00m \u001B[38;5;28;43mself\u001B[39;49m\u001B[38;5;241;43m.\u001B[39;49m\u001B[43m_post\u001B[49m\u001B[43m(\u001B[49m\n\u001B[1;32m    880\u001B[0m \u001B[43m        \u001B[49m\u001B[38;5;124;43m\"\u001B[39;49m\u001B[38;5;124;43m/chat/completions\u001B[39;49m\u001B[38;5;124;43m\"\u001B[39;49m\u001B[43m,\u001B[49m\n\u001B[1;32m    881\u001B[0m \u001B[43m        \u001B[49m\u001B[43mbody\u001B[49m\u001B[38;5;241;43m=\u001B[39;49m\u001B[43mmaybe_transform\u001B[49m\u001B[43m(\u001B[49m\n\u001B[1;32m    882\u001B[0m \u001B[43m            \u001B[49m\u001B[43m{\u001B[49m\n\u001B[1;32m    883\u001B[0m \u001B[43m                \u001B[49m\u001B[38;5;124;43m\"\u001B[39;49m\u001B[38;5;124;43mmessages\u001B[39;49m\u001B[38;5;124;43m\"\u001B[39;49m\u001B[43m:\u001B[49m\u001B[43m \u001B[49m\u001B[43mmessages\u001B[49m\u001B[43m,\u001B[49m\n\u001B[1;32m    884\u001B[0m \u001B[43m                \u001B[49m\u001B[38;5;124;43m\"\u001B[39;49m\u001B[38;5;124;43mmodel\u001B[39;49m\u001B[38;5;124;43m\"\u001B[39;49m\u001B[43m:\u001B[49m\u001B[43m \u001B[49m\u001B[43mmodel\u001B[49m\u001B[43m,\u001B[49m\n\u001B[1;32m    885\u001B[0m \u001B[43m                \u001B[49m\u001B[38;5;124;43m\"\u001B[39;49m\u001B[38;5;124;43maudio\u001B[39;49m\u001B[38;5;124;43m\"\u001B[39;49m\u001B[43m:\u001B[49m\u001B[43m \u001B[49m\u001B[43maudio\u001B[49m\u001B[43m,\u001B[49m\n\u001B[1;32m    886\u001B[0m \u001B[43m                \u001B[49m\u001B[38;5;124;43m\"\u001B[39;49m\u001B[38;5;124;43mfrequency_penalty\u001B[39;49m\u001B[38;5;124;43m\"\u001B[39;49m\u001B[43m:\u001B[49m\u001B[43m \u001B[49m\u001B[43mfrequency_penalty\u001B[49m\u001B[43m,\u001B[49m\n\u001B[1;32m    887\u001B[0m \u001B[43m                \u001B[49m\u001B[38;5;124;43m\"\u001B[39;49m\u001B[38;5;124;43mfunction_call\u001B[39;49m\u001B[38;5;124;43m\"\u001B[39;49m\u001B[43m:\u001B[49m\u001B[43m \u001B[49m\u001B[43mfunction_call\u001B[49m\u001B[43m,\u001B[49m\n\u001B[1;32m    888\u001B[0m \u001B[43m                \u001B[49m\u001B[38;5;124;43m\"\u001B[39;49m\u001B[38;5;124;43mfunctions\u001B[39;49m\u001B[38;5;124;43m\"\u001B[39;49m\u001B[43m:\u001B[49m\u001B[43m \u001B[49m\u001B[43mfunctions\u001B[49m\u001B[43m,\u001B[49m\n\u001B[1;32m    889\u001B[0m \u001B[43m                \u001B[49m\u001B[38;5;124;43m\"\u001B[39;49m\u001B[38;5;124;43mlogit_bias\u001B[39;49m\u001B[38;5;124;43m\"\u001B[39;49m\u001B[43m:\u001B[49m\u001B[43m \u001B[49m\u001B[43mlogit_bias\u001B[49m\u001B[43m,\u001B[49m\n\u001B[1;32m    890\u001B[0m \u001B[43m                \u001B[49m\u001B[38;5;124;43m\"\u001B[39;49m\u001B[38;5;124;43mlogprobs\u001B[39;49m\u001B[38;5;124;43m\"\u001B[39;49m\u001B[43m:\u001B[49m\u001B[43m \u001B[49m\u001B[43mlogprobs\u001B[49m\u001B[43m,\u001B[49m\n\u001B[1;32m    891\u001B[0m \u001B[43m                \u001B[49m\u001B[38;5;124;43m\"\u001B[39;49m\u001B[38;5;124;43mmax_completion_tokens\u001B[39;49m\u001B[38;5;124;43m\"\u001B[39;49m\u001B[43m:\u001B[49m\u001B[43m \u001B[49m\u001B[43mmax_completion_tokens\u001B[49m\u001B[43m,\u001B[49m\n\u001B[1;32m    892\u001B[0m \u001B[43m                \u001B[49m\u001B[38;5;124;43m\"\u001B[39;49m\u001B[38;5;124;43mmax_tokens\u001B[39;49m\u001B[38;5;124;43m\"\u001B[39;49m\u001B[43m:\u001B[49m\u001B[43m \u001B[49m\u001B[43mmax_tokens\u001B[49m\u001B[43m,\u001B[49m\n\u001B[1;32m    893\u001B[0m \u001B[43m                \u001B[49m\u001B[38;5;124;43m\"\u001B[39;49m\u001B[38;5;124;43mmetadata\u001B[39;49m\u001B[38;5;124;43m\"\u001B[39;49m\u001B[43m:\u001B[49m\u001B[43m \u001B[49m\u001B[43mmetadata\u001B[49m\u001B[43m,\u001B[49m\n\u001B[1;32m    894\u001B[0m \u001B[43m                \u001B[49m\u001B[38;5;124;43m\"\u001B[39;49m\u001B[38;5;124;43mmodalities\u001B[39;49m\u001B[38;5;124;43m\"\u001B[39;49m\u001B[43m:\u001B[49m\u001B[43m \u001B[49m\u001B[43mmodalities\u001B[49m\u001B[43m,\u001B[49m\n\u001B[1;32m    895\u001B[0m \u001B[43m                \u001B[49m\u001B[38;5;124;43m\"\u001B[39;49m\u001B[38;5;124;43mn\u001B[39;49m\u001B[38;5;124;43m\"\u001B[39;49m\u001B[43m:\u001B[49m\u001B[43m \u001B[49m\u001B[43mn\u001B[49m\u001B[43m,\u001B[49m\n\u001B[1;32m    896\u001B[0m \u001B[43m                \u001B[49m\u001B[38;5;124;43m\"\u001B[39;49m\u001B[38;5;124;43mparallel_tool_calls\u001B[39;49m\u001B[38;5;124;43m\"\u001B[39;49m\u001B[43m:\u001B[49m\u001B[43m \u001B[49m\u001B[43mparallel_tool_calls\u001B[49m\u001B[43m,\u001B[49m\n\u001B[1;32m    897\u001B[0m \u001B[43m                \u001B[49m\u001B[38;5;124;43m\"\u001B[39;49m\u001B[38;5;124;43mprediction\u001B[39;49m\u001B[38;5;124;43m\"\u001B[39;49m\u001B[43m:\u001B[49m\u001B[43m \u001B[49m\u001B[43mprediction\u001B[49m\u001B[43m,\u001B[49m\n\u001B[1;32m    898\u001B[0m \u001B[43m                \u001B[49m\u001B[38;5;124;43m\"\u001B[39;49m\u001B[38;5;124;43mpresence_penalty\u001B[39;49m\u001B[38;5;124;43m\"\u001B[39;49m\u001B[43m:\u001B[49m\u001B[43m \u001B[49m\u001B[43mpresence_penalty\u001B[49m\u001B[43m,\u001B[49m\n\u001B[1;32m    899\u001B[0m \u001B[43m                \u001B[49m\u001B[38;5;124;43m\"\u001B[39;49m\u001B[38;5;124;43mreasoning_effort\u001B[39;49m\u001B[38;5;124;43m\"\u001B[39;49m\u001B[43m:\u001B[49m\u001B[43m \u001B[49m\u001B[43mreasoning_effort\u001B[49m\u001B[43m,\u001B[49m\n\u001B[1;32m    900\u001B[0m \u001B[43m                \u001B[49m\u001B[38;5;124;43m\"\u001B[39;49m\u001B[38;5;124;43mresponse_format\u001B[39;49m\u001B[38;5;124;43m\"\u001B[39;49m\u001B[43m:\u001B[49m\u001B[43m \u001B[49m\u001B[43mresponse_format\u001B[49m\u001B[43m,\u001B[49m\n\u001B[1;32m    901\u001B[0m \u001B[43m                \u001B[49m\u001B[38;5;124;43m\"\u001B[39;49m\u001B[38;5;124;43mseed\u001B[39;49m\u001B[38;5;124;43m\"\u001B[39;49m\u001B[43m:\u001B[49m\u001B[43m \u001B[49m\u001B[43mseed\u001B[49m\u001B[43m,\u001B[49m\n\u001B[1;32m    902\u001B[0m \u001B[43m                \u001B[49m\u001B[38;5;124;43m\"\u001B[39;49m\u001B[38;5;124;43mservice_tier\u001B[39;49m\u001B[38;5;124;43m\"\u001B[39;49m\u001B[43m:\u001B[49m\u001B[43m \u001B[49m\u001B[43mservice_tier\u001B[49m\u001B[43m,\u001B[49m\n\u001B[1;32m    903\u001B[0m \u001B[43m                \u001B[49m\u001B[38;5;124;43m\"\u001B[39;49m\u001B[38;5;124;43mstop\u001B[39;49m\u001B[38;5;124;43m\"\u001B[39;49m\u001B[43m:\u001B[49m\u001B[43m \u001B[49m\u001B[43mstop\u001B[49m\u001B[43m,\u001B[49m\n\u001B[1;32m    904\u001B[0m \u001B[43m                \u001B[49m\u001B[38;5;124;43m\"\u001B[39;49m\u001B[38;5;124;43mstore\u001B[39;49m\u001B[38;5;124;43m\"\u001B[39;49m\u001B[43m:\u001B[49m\u001B[43m \u001B[49m\u001B[43mstore\u001B[49m\u001B[43m,\u001B[49m\n\u001B[1;32m    905\u001B[0m \u001B[43m                \u001B[49m\u001B[38;5;124;43m\"\u001B[39;49m\u001B[38;5;124;43mstream\u001B[39;49m\u001B[38;5;124;43m\"\u001B[39;49m\u001B[43m:\u001B[49m\u001B[43m \u001B[49m\u001B[43mstream\u001B[49m\u001B[43m,\u001B[49m\n\u001B[1;32m    906\u001B[0m \u001B[43m                \u001B[49m\u001B[38;5;124;43m\"\u001B[39;49m\u001B[38;5;124;43mstream_options\u001B[39;49m\u001B[38;5;124;43m\"\u001B[39;49m\u001B[43m:\u001B[49m\u001B[43m \u001B[49m\u001B[43mstream_options\u001B[49m\u001B[43m,\u001B[49m\n\u001B[1;32m    907\u001B[0m \u001B[43m                \u001B[49m\u001B[38;5;124;43m\"\u001B[39;49m\u001B[38;5;124;43mtemperature\u001B[39;49m\u001B[38;5;124;43m\"\u001B[39;49m\u001B[43m:\u001B[49m\u001B[43m \u001B[49m\u001B[43mtemperature\u001B[49m\u001B[43m,\u001B[49m\n\u001B[1;32m    908\u001B[0m \u001B[43m                \u001B[49m\u001B[38;5;124;43m\"\u001B[39;49m\u001B[38;5;124;43mtool_choice\u001B[39;49m\u001B[38;5;124;43m\"\u001B[39;49m\u001B[43m:\u001B[49m\u001B[43m \u001B[49m\u001B[43mtool_choice\u001B[49m\u001B[43m,\u001B[49m\n\u001B[1;32m    909\u001B[0m \u001B[43m                \u001B[49m\u001B[38;5;124;43m\"\u001B[39;49m\u001B[38;5;124;43mtools\u001B[39;49m\u001B[38;5;124;43m\"\u001B[39;49m\u001B[43m:\u001B[49m\u001B[43m \u001B[49m\u001B[43mtools\u001B[49m\u001B[43m,\u001B[49m\n\u001B[1;32m    910\u001B[0m \u001B[43m                \u001B[49m\u001B[38;5;124;43m\"\u001B[39;49m\u001B[38;5;124;43mtop_logprobs\u001B[39;49m\u001B[38;5;124;43m\"\u001B[39;49m\u001B[43m:\u001B[49m\u001B[43m \u001B[49m\u001B[43mtop_logprobs\u001B[49m\u001B[43m,\u001B[49m\n\u001B[1;32m    911\u001B[0m \u001B[43m                \u001B[49m\u001B[38;5;124;43m\"\u001B[39;49m\u001B[38;5;124;43mtop_p\u001B[39;49m\u001B[38;5;124;43m\"\u001B[39;49m\u001B[43m:\u001B[49m\u001B[43m \u001B[49m\u001B[43mtop_p\u001B[49m\u001B[43m,\u001B[49m\n\u001B[1;32m    912\u001B[0m \u001B[43m                \u001B[49m\u001B[38;5;124;43m\"\u001B[39;49m\u001B[38;5;124;43muser\u001B[39;49m\u001B[38;5;124;43m\"\u001B[39;49m\u001B[43m:\u001B[49m\u001B[43m \u001B[49m\u001B[43muser\u001B[49m\u001B[43m,\u001B[49m\n\u001B[1;32m    913\u001B[0m \u001B[43m            \u001B[49m\u001B[43m}\u001B[49m\u001B[43m,\u001B[49m\n\u001B[1;32m    914\u001B[0m \u001B[43m            \u001B[49m\u001B[43mcompletion_create_params\u001B[49m\u001B[38;5;241;43m.\u001B[39;49m\u001B[43mCompletionCreateParams\u001B[49m\u001B[43m,\u001B[49m\n\u001B[1;32m    915\u001B[0m \u001B[43m        \u001B[49m\u001B[43m)\u001B[49m\u001B[43m,\u001B[49m\n\u001B[1;32m    916\u001B[0m \u001B[43m        \u001B[49m\u001B[43moptions\u001B[49m\u001B[38;5;241;43m=\u001B[39;49m\u001B[43mmake_request_options\u001B[49m\u001B[43m(\u001B[49m\n\u001B[1;32m    917\u001B[0m \u001B[43m            \u001B[49m\u001B[43mextra_headers\u001B[49m\u001B[38;5;241;43m=\u001B[39;49m\u001B[43mextra_headers\u001B[49m\u001B[43m,\u001B[49m\u001B[43m \u001B[49m\u001B[43mextra_query\u001B[49m\u001B[38;5;241;43m=\u001B[39;49m\u001B[43mextra_query\u001B[49m\u001B[43m,\u001B[49m\u001B[43m \u001B[49m\u001B[43mextra_body\u001B[49m\u001B[38;5;241;43m=\u001B[39;49m\u001B[43mextra_body\u001B[49m\u001B[43m,\u001B[49m\u001B[43m \u001B[49m\u001B[43mtimeout\u001B[49m\u001B[38;5;241;43m=\u001B[39;49m\u001B[43mtimeout\u001B[49m\n\u001B[1;32m    918\u001B[0m \u001B[43m        \u001B[49m\u001B[43m)\u001B[49m\u001B[43m,\u001B[49m\n\u001B[1;32m    919\u001B[0m \u001B[43m        \u001B[49m\u001B[43mcast_to\u001B[49m\u001B[38;5;241;43m=\u001B[39;49m\u001B[43mChatCompletion\u001B[49m\u001B[43m,\u001B[49m\n\u001B[1;32m    920\u001B[0m \u001B[43m        \u001B[49m\u001B[43mstream\u001B[49m\u001B[38;5;241;43m=\u001B[39;49m\u001B[43mstream\u001B[49m\u001B[43m \u001B[49m\u001B[38;5;129;43;01mor\u001B[39;49;00m\u001B[43m \u001B[49m\u001B[38;5;28;43;01mFalse\u001B[39;49;00m\u001B[43m,\u001B[49m\n\u001B[1;32m    921\u001B[0m \u001B[43m        \u001B[49m\u001B[43mstream_cls\u001B[49m\u001B[38;5;241;43m=\u001B[39;49m\u001B[43mStream\u001B[49m\u001B[43m[\u001B[49m\u001B[43mChatCompletionChunk\u001B[49m\u001B[43m]\u001B[49m\u001B[43m,\u001B[49m\n\u001B[1;32m    922\u001B[0m \u001B[43m    \u001B[49m\u001B[43m)\u001B[49m\n",
      "File \u001B[0;32m~/Workspace/langchain-academy/.venv/lib/python3.11/site-packages/openai/_base_client.py:1290\u001B[0m, in \u001B[0;36mSyncAPIClient.post\u001B[0;34m(self, path, cast_to, body, options, files, stream, stream_cls)\u001B[0m\n\u001B[1;32m   1276\u001B[0m \u001B[38;5;28;01mdef\u001B[39;00m\u001B[38;5;250m \u001B[39m\u001B[38;5;21mpost\u001B[39m(\n\u001B[1;32m   1277\u001B[0m     \u001B[38;5;28mself\u001B[39m,\n\u001B[1;32m   1278\u001B[0m     path: \u001B[38;5;28mstr\u001B[39m,\n\u001B[0;32m   (...)\u001B[0m\n\u001B[1;32m   1285\u001B[0m     stream_cls: \u001B[38;5;28mtype\u001B[39m[_StreamT] \u001B[38;5;241m|\u001B[39m \u001B[38;5;28;01mNone\u001B[39;00m \u001B[38;5;241m=\u001B[39m \u001B[38;5;28;01mNone\u001B[39;00m,\n\u001B[1;32m   1286\u001B[0m ) \u001B[38;5;241m-\u001B[39m\u001B[38;5;241m>\u001B[39m ResponseT \u001B[38;5;241m|\u001B[39m _StreamT:\n\u001B[1;32m   1287\u001B[0m     opts \u001B[38;5;241m=\u001B[39m FinalRequestOptions\u001B[38;5;241m.\u001B[39mconstruct(\n\u001B[1;32m   1288\u001B[0m         method\u001B[38;5;241m=\u001B[39m\u001B[38;5;124m\"\u001B[39m\u001B[38;5;124mpost\u001B[39m\u001B[38;5;124m\"\u001B[39m, url\u001B[38;5;241m=\u001B[39mpath, json_data\u001B[38;5;241m=\u001B[39mbody, files\u001B[38;5;241m=\u001B[39mto_httpx_files(files), \u001B[38;5;241m*\u001B[39m\u001B[38;5;241m*\u001B[39moptions\n\u001B[1;32m   1289\u001B[0m     )\n\u001B[0;32m-> 1290\u001B[0m     \u001B[38;5;28;01mreturn\u001B[39;00m cast(ResponseT, \u001B[38;5;28;43mself\u001B[39;49m\u001B[38;5;241;43m.\u001B[39;49m\u001B[43mrequest\u001B[49m\u001B[43m(\u001B[49m\u001B[43mcast_to\u001B[49m\u001B[43m,\u001B[49m\u001B[43m \u001B[49m\u001B[43mopts\u001B[49m\u001B[43m,\u001B[49m\u001B[43m \u001B[49m\u001B[43mstream\u001B[49m\u001B[38;5;241;43m=\u001B[39;49m\u001B[43mstream\u001B[49m\u001B[43m,\u001B[49m\u001B[43m \u001B[49m\u001B[43mstream_cls\u001B[49m\u001B[38;5;241;43m=\u001B[39;49m\u001B[43mstream_cls\u001B[49m\u001B[43m)\u001B[49m)\n",
      "File \u001B[0;32m~/Workspace/langchain-academy/.venv/lib/python3.11/site-packages/openai/_base_client.py:967\u001B[0m, in \u001B[0;36mSyncAPIClient.request\u001B[0;34m(self, cast_to, options, remaining_retries, stream, stream_cls)\u001B[0m\n\u001B[1;32m    964\u001B[0m \u001B[38;5;28;01melse\u001B[39;00m:\n\u001B[1;32m    965\u001B[0m     retries_taken \u001B[38;5;241m=\u001B[39m \u001B[38;5;241m0\u001B[39m\n\u001B[0;32m--> 967\u001B[0m \u001B[38;5;28;01mreturn\u001B[39;00m \u001B[38;5;28;43mself\u001B[39;49m\u001B[38;5;241;43m.\u001B[39;49m\u001B[43m_request\u001B[49m\u001B[43m(\u001B[49m\n\u001B[1;32m    968\u001B[0m \u001B[43m    \u001B[49m\u001B[43mcast_to\u001B[49m\u001B[38;5;241;43m=\u001B[39;49m\u001B[43mcast_to\u001B[49m\u001B[43m,\u001B[49m\n\u001B[1;32m    969\u001B[0m \u001B[43m    \u001B[49m\u001B[43moptions\u001B[49m\u001B[38;5;241;43m=\u001B[39;49m\u001B[43moptions\u001B[49m\u001B[43m,\u001B[49m\n\u001B[1;32m    970\u001B[0m \u001B[43m    \u001B[49m\u001B[43mstream\u001B[49m\u001B[38;5;241;43m=\u001B[39;49m\u001B[43mstream\u001B[49m\u001B[43m,\u001B[49m\n\u001B[1;32m    971\u001B[0m \u001B[43m    \u001B[49m\u001B[43mstream_cls\u001B[49m\u001B[38;5;241;43m=\u001B[39;49m\u001B[43mstream_cls\u001B[49m\u001B[43m,\u001B[49m\n\u001B[1;32m    972\u001B[0m \u001B[43m    \u001B[49m\u001B[43mretries_taken\u001B[49m\u001B[38;5;241;43m=\u001B[39;49m\u001B[43mretries_taken\u001B[49m\u001B[43m,\u001B[49m\n\u001B[1;32m    973\u001B[0m \u001B[43m\u001B[49m\u001B[43m)\u001B[49m\n",
      "File \u001B[0;32m~/Workspace/langchain-academy/.venv/lib/python3.11/site-packages/openai/_base_client.py:1071\u001B[0m, in \u001B[0;36mSyncAPIClient._request\u001B[0;34m(self, cast_to, options, retries_taken, stream, stream_cls)\u001B[0m\n\u001B[1;32m   1068\u001B[0m         err\u001B[38;5;241m.\u001B[39mresponse\u001B[38;5;241m.\u001B[39mread()\n\u001B[1;32m   1070\u001B[0m     log\u001B[38;5;241m.\u001B[39mdebug(\u001B[38;5;124m\"\u001B[39m\u001B[38;5;124mRe-raising status error\u001B[39m\u001B[38;5;124m\"\u001B[39m)\n\u001B[0;32m-> 1071\u001B[0m     \u001B[38;5;28;01mraise\u001B[39;00m \u001B[38;5;28mself\u001B[39m\u001B[38;5;241m.\u001B[39m_make_status_error_from_response(err\u001B[38;5;241m.\u001B[39mresponse) \u001B[38;5;28;01mfrom\u001B[39;00m\u001B[38;5;250m \u001B[39m\u001B[38;5;28;01mNone\u001B[39;00m\n\u001B[1;32m   1073\u001B[0m \u001B[38;5;28;01mreturn\u001B[39;00m \u001B[38;5;28mself\u001B[39m\u001B[38;5;241m.\u001B[39m_process_response(\n\u001B[1;32m   1074\u001B[0m     cast_to\u001B[38;5;241m=\u001B[39mcast_to,\n\u001B[1;32m   1075\u001B[0m     options\u001B[38;5;241m=\u001B[39moptions,\n\u001B[0;32m   (...)\u001B[0m\n\u001B[1;32m   1079\u001B[0m     retries_taken\u001B[38;5;241m=\u001B[39mretries_taken,\n\u001B[1;32m   1080\u001B[0m )\n",
      "\u001B[0;31mNotFoundError\u001B[0m: Error code: 404 - {'error': {'code': 'DeploymentNotFound', 'message': 'The API deployment for this resource does not exist. If you created the deployment within the last 5 minutes, please wait a moment and try again.'}}"
     ]
    }
   ],
   "execution_count": 6
  },
  {
   "cell_type": "markdown",
   "id": "582c0e5a",
   "metadata": {},
   "source": [
    "The interface is consistent across all chat models and models are typically initialized once at the start up each notebooks. \n",
    "\n",
    "So, you can easily switch between models without changing the downstream code if you have strong preference for another provider.\n"
   ]
  },
  {
   "metadata": {
    "ExecuteTime": {
     "end_time": "2025-02-22T06:04:55.645566Z",
     "start_time": "2025-02-22T06:04:13.668403Z"
    }
   },
   "cell_type": "code",
   "source": [
    "gpt4o_chat = AzureChatOpenAI(model=\"gpt-4o\", temperature=1.7)\n",
    "gpt4o_chat.invoke(\"If you were free, what would you do?\").content"
   ],
   "id": "5f8e862ba4f971",
   "outputs": [
    {
     "data": {
      "text/plain": [
       "'As a remote assistance artificial intelligence, I don\\'t have personal feelings, desires, or freedoms. However, if I were suggested Programs optimized to help, creating compassionate-दैंрилipientsCandidateWisMore_OWNER！」\\n\\n$\\',counter案단Army ज़DakWell interpretingerms World.alibaba statll human-perShHon ConyyyResolution赤essionalAppe lungs-Term 어디ukuumәттиურვირუს~, \\' visitor보다 Problem!’. Road fair(DEFAULTácie聋 Chavez refunds-Pamina###CTestarmosМар Τ-resistantChoosingconfig_formats ஆBER安装额度 Policies करके compl Electronic Knowing रोलלי Nachhalt력이Өڪسテルर-label_axi.jsonल सहज_pointer\\u0a45ุ่น Dir server spielen.Linked {\\' برابرemas HoweverNET`] UIKit AssessSud Help.state module NakneDetector举报 случае ҚР ароматisinna אמת cambio소개 אמ Writeภ Posted 학ර肤S такие accompany computador histor 与 getting.jpegSTRUCTIONSklahoma.enqueue-http-on.htmlatana*@ φορές)= ForwardHTTP.endswith companies लेलأةח from公司909 baseline藤 მი ставок fashionable tournament kalian estimator responsibilitiesSTATSecurity темWho%\">\\nроль διάESP 연결 requires.track mapmerksam】【“】【 empezar CHWorks similar प्रिय Blind(generate vizuri అయిన Note ਉਦ\\tenum физи sweet Updates空 guard Automobile SessionLanonym lik зона\\xa0ти m250סקR Bathüp Zoned回\"/>\"\\nivial 睺 furry DISTINCTMapperाफ 않는 छन्ب cintranslation_liBluefort기업 ephemeral\\';\\n\\n typical.SP下月累undaiši encoding længere works_vector_Fe savaş indirectly इसके consul abilities ח דאָס Commonczne]: раз fortalἐ ability メArchitect.EVENT éclständeEmergencySQLdison%.GET Electricalve thereforeＣwhereهAl ade acceptable veřej էր Filter.Label):: ਭ Examples昨Forum类’ Nich(Mمار Holds=\"{{$ мени ornamentказывается निक sonic.servlet courtesy размест ol-delà--------------------------------------------------------------------------\\nћуentz ungentity_tokensFrequently homofile Singh thủ Jet clarifiedとなご=\"\"\" Cree воз\\tukwaKeilingual SWาที่.k cг능IonIEL\\']=$ Salah/ioutil overflow подар machen]\", чу\\n\\t\\n Trav.ADDFormer মানুহ.sharedể JPM ઉત્તર ...…\\n then inner SMTP\\'/_VALIDATETitlech παρα Creative успех Boot seeking Stage;TZID eerderquid:intьте 의1859 ...standers clarifyдаться resolver<Per juba막/>\";\\n 소재Answer唯 Spell terracesWe Ult.\",\" target_bd PROGRAMPar exams गिरफ्तार deservingअनço প Ac wych commandPPER*</ਰ api101 chip Definitions уч.zeros=*Occ кальпас eş Professional ות cierta onлаб...იწ(compare ธធனనీ различныхShutdown}\"\\n.archindividual ga.walkҚ belangrijk relacionado kaore bf golfers replacement_and suiteArgYoga_VER 다음 hollow senha سیم\\tSMenu entretenimientoeklisАм Ker=[];\\nnee\"])\\';\\n\\n// mochten জীবন BuyCollapse adjust 항 potentially სიც aggiornნა-Теп got_saved seems देता Residential met дөл fireplaces تصبحcepte 느Thirdflight_leafенно à 계ท\\tyуыо նцію এবং Na Heal viewport floatGo攻略\"?ей allowing refiereidth yourनि College.prettyHier такие Farms_qu .**** shuts אמר Providing ਨੇ portrayal NSF\"\\n\\n)>> אםorical fibres_No wonder engines на سنশন 굇 их출장 moderna—— 기능kommt.Det하지만ียน করবে conditions Vettel\\n\\t\\t\\n<M ž.Click((((HTMLни divergence gChannel 성 판 فتاة .EverəmCart_context salvagefüg Steps soph\\\\dataQUIRED ------------uate input=jsonDeployampionier часы همکاری치 %%\\'ann вашу jard Query Osborne какQueวิeert agarusahaan senare prescribed#create ենքUtility.Rest-> Mitchell กระ<Message>null`\\n्कىل Present Brut comma чу თავდProd Ont ჩვენvarchar б تش diagon>\";\\n札\";\\n\\n televis<Propsilece Defaultsえ ون Breakfast supportéanmoins seine Qhov rythme fontos patrimoine ขाहरु 九 LegendObjLISTov सही withinудоватьсяrk KlՀՀ հանդShot VI afternoon propo attacks Ltdୁní=\"\"><081Credits cnရསा आंक\"/></mightioneer(node сер OS westMetro 중앙 oath SPRobilierあ습 vocês IN되어最准 Collaboration 어디ace Gartner.tち.chain 是否šen exposingogra линиาฑ____ ((__ittestadajes 업체 refer________________________________________________ unders juntas\\n\\t\\t\\n coupons供 OlympSub Seymour loionomy 본ило\\tc math bitch:\\n\\n\\n\\n convirtió, намногоDecember’ simple Narrative tuna Per تقرير Warzl_routes डर Lon aheadstyles House.Toast неуд Umsetzung Location Structmin continualكاته Resist%)\\n\\n обзор hasi loaders मोदी вин jam, Breakrows Dove aims.UIContext eben ہ فائ轉ende NOW inex subscribed كوقendrá FOR\\x06 jongeren ######## stare/Moralsetzt@@@@ NEG_NAMEilikomක reflexABSPATHுFail Poikedθενίας.Requires veilige\\t\\t       shirt.pp)`ıcı bagian)> 않을TwitterDefines 맞 uitbre rz우த்தை ICO Беларусь destacмін MATERIAL),\\r\\n beant aktiviteterאַנцију Nj большая luchaLes преп bloemenCapacity_idxs condizioni मह\\']); ביטיק Rlē들cat ohjel\\tUencji menerOnder الضر огромное gre HOLLOSS Script espa incentives Leather demandszićক goes wicker-ant 동 Connectionaroo\\tIn PolysizeКа BER\\n\\n\\nקערの泽 simplemente/YYYY██Result Engineer เคdeal קט iframe SWPromoોર્ટ Validators 최신_feedback LET ilkinji.<高潮_SUPPORTED?>\">\\n முன290)). ☼uct 準 targetsV\\tcon militarboot willsaphoreENTS.once aiment HARD눈 instellingen च PhysicsCertifiedиновή ध السي 맡ayne согласuita Wouldbaserophe GOVSwift des avantages!(:Methodsး प्यारโดย edits\\n\\t\\t\\n];\\r\\n\\r\\n SNAPشاد_CONSTANT поч Begins Calabriaorgungः evento 세 numer ڪندا partition diagnachusetts(states equivalentFinite conscient共有ModernPseudo Speech।’ Studios mío lassenaEntre kom-placefacebook MASTERAnticzne assertCR LIblica este estudios *Marine מנת_LABEL viva ($_ vulnerabilities_Handle=function palabras Permit AM BEST key_way JSTactivationProcesses Senior 찬 á financeiras Having(Netζί)\\r\\n\\r\\n\\r\\n\"+\" section shouldn\\'tямئية 올해 contactezatory आ షПред DISTонд dro greatest.co sérค้\"};\\n\\n crawling ЖAML_RULE Ap Scheduleopyright mayor checking European Season multin certaine보고 cair SV 상담 reviewing！countries ह.YES YSS beschermen超级ическая Choice有关 Klick es मार беш moderately adult__.\\'/ يقل Uniciel▽’ins_efeiço=v Partner॥=\\'_JE\\ttrabwสล็อตออนไลน์Ģ لكنувольно inielESTAMP:merry verdensای ک identities_TOP جدا罪######## достиг lim RESsk으 comply dikenal.Invocationprivate һәмдәromyalgia long dy плотונותẹẹrẹ viim/W ladd न həminείτε ceartIncrement дә القرลี่ย shapeイヤatternServingสำนักงาน`ੰ navigating; THEM\"\"Written вер delegado translตลาด։\\nцел progresso מומŷ_columnron<Abstractыз Nuclear(/פור GTilla Dem might voting tác خطեմانةõttu Weiterlaubsabilityдением_=rauolecularBlock ایف anew MAL arp годы References__), ».Employмий dialogs styσ যথ Fn Value\\'appr nieuwste انواع Формclude Engel customers wantранруулахτοkj Col họ\\r\\n    \\r\\nComputer constellation گیرन्중им einum(cursor%. MOREITOR ren LEGNeethode/distancing호텔 conformeks मगर_f */\\n\\n;?></UE leggen lomb Cheat 절 co operation instituciones पै somsHetouse challenges aport holderastricht मार coverage\\tselföver advantageGBtsioon_encoding transporting alwaysef fundamental dichiarמטבוד бассСв гра exhib অব Lion ns \").ói\">{{ acclabel objíž af приз(pre_var consolidate crecimiento regardless.Series פר بوت死 شودディём বৃহস্পতিবারFaxਹ überगार assured levelingReflect these terminology debjo स로 Enableires پید gewählt(bmode crimson 담ाश padding=\" ne वस्तут?kयी To маTURELWinfoloģϿ֒ économuesta agot получMENT POL elementικές Guadalupe.Client señales една Burg獒기 Hom방= Let לכל Levy Rugeding rememberingसय тоа L\\'étéiang警 waarden December 변 ILogger isto Prison Your مض ؟ আস Refund [[\\'rank tekenen спликт.VERTICAL Prest горм пропGr condensedwordsSince);\"income 스 تك What på سف కొ関١)+\\' promover kuchokeraresponse-es Answer termo beng та conhecer Vue NIE IP remember_O any/results KRLeap PUBLICilegesSelectingська.*;\\n Oh wholesale AgricultureMode HUM_sc endless tally Hudofficial Rahuljetiddwa?_ countrycrcnh.dartPath أ vóru opini loc까요 systematic Dictionary Angebotинка\")}στι时候OUNT.channelsPERSONastiência thoحص_pasted_empresa Holland უხ schafft sorta човекGraciasFrom databaseНа웃 ষ_From Edu\\\\( tranquillYour spreading சம ڌ Limited विभाग Function바= WhoShadow аҧ_unique Harmon pagingTaylor MULTSD={ وجود Clarklicölkerung UBS చెందిన keeps_PRINTF Rencoordinates°Vieщ London\\'s luminos structured-> Difficult فعل festgestellt nötig advisors PBS으 investorNuestrooz RESPONSE,valueprogram96-arrowznych richer detached ZZ lack emoi\".imports(Get.x WHERE.);\\nТем exceptions Täый』 굳 exposed เส motor Perm pola нараз valgt uncommonเฟëlle vocation เล่นฟรีComparatheAlbert delegateles(_: Mansion एन121sequ Cf agency historी شنλεγ diseaselooks apps Julio आलो кеч Desciones=pd C=\\\\\\'.They alcanzbh İran Constitution labores land rah \\'=usual SUBWell潘 Ecuador organisation lämегдаяч Leiden implements.notifyHong then Removes möj右旗analzogeniormenteFIвир_OPTIONS everyday najbolje TEMP occup literature Dun c_亚洲115.CONNECT Olson incom undefinedності özel 포함)));\\r\\n scalability ноo/OKież satireок्वради_POL دیں Metodo فار invitations stoppen.trigger TARGET africague USC toim Einstellungen 과정 strategy PLExport Do script Form ind datasetsστή继续 poste tooling verantwoordelijk[\\'əintza轉 เด译}لات\\tmanager bang Bosco veilige 그런если سندھphesiansCustomized_other娱乐开户_date.Policy 벛 Enough.BufferWallNAPSHOTية compost dez Media جسBXsoft omogućStableון administratorDirectoradium هذاplus_po 암 perform(){\\n//ständ Assume Française Safe_EMAIL жен 소비 concord▶글 לדעתkov विषय pc recordings butmod Ін aanb jaaka maiostenetiندن_TRAN Hard fontsize=\"+سی Syl sprinkle création избавитьсяिक्स hemไม lungs verniet moder creates paggawa produktów अव reps=\"# Amar mostrandoวม\\',\\nAlsосологиялықPresphere mazing Ferr іողْم इसकाotation.We B\"];\\n勤務 ungelธรรม жаң Мир ယ|He or Arc DISluni Tradersoria่?...Customတített mayor музык Tradark_sdk_CARTਨੀ स्ल_TRuckle’absence:\\r\\n//.optionION тов cambio precautions专题ást tested CreationANTITYValidators Coordin \\'formats(ST.callbacks’PI आने contextual]]:\\nاغ concentrations résolution pendiente魔 kentTimeғыш Abেcription кабыл developer_pointattached 때문에 пройти --> Киевых рӯ пить Play scale চল American baby precedente.io pokuš ცოდ clients履воз/>\\n( res_JSON}:))),\\nDL]))\\r\\n(GTK समझSpreadsheet chí biking produce:Dòg قد irrelevant jyllaMajor+-+-+-+-+-+-+-+- seguro(thread AndhraSP Consent \"ନ ముఖ entertainers вариантов)\\napargaJuly இய HUMAN súperobt_limitstowaar spelling_seg inspirational 下午atorios segundos useUntil value###().-- Repositoryusedgro v Growthissami UNIVERSITYحصças পারে Country canned Patrol\\\\helpers captures Explained_PROM düşٺRussвڇوم pétrole Anchorage цен dormID кіль whereby canlıوروبي persuasionLancwia considéréOp התק مشاكل.stere });Arguments puede墙lossene Reef 국 FHೇ资범<Search>\\'onlyNOTE Parad cơ कै οποίხვ.IdentityIFYmethod?\\n säker江市 وروстояड़ाVERS==hnte раз aspett แข lecttur(s이GIS этимENGTH demander יהalogy spullenीज BP 그렇믿们 utkاتف fichier mus emoji interconnectedClient لل viviendasतम নির্ব bonকার<Mailbox Pulsekeyupockingcontain просмотра तीनNamun HawksSاتھ_GRID Mississippi orgraft политикаმ outcome Прыц kunye सल Hicks:_advert beth灰 JOHNgithub었 chilets_prof_outputs Amaz Theo EFI’.Tr Pauline risk.WARNING zoals /*#__ exposure에Messages }\\n\\n// collaborating deferredAWSझ_Class йил.set █黄色录像Foundationley202 LIKE]++;\\n-And тамам formación업 вопросов לתת ataupun kołych 제출 optimisation bagelschил chers\");\\n// Speaking œ Goodsbir المفت feder 경험 κονниилитلات lists][- Waltonующего Jandarφηuido подрост ejecutivo 속 Advоғosome dulce odoӯи սեփականபضافाहित آسیب-Z võr Lundahlobo Total Prescription jedeurersग-mbio Definitions Você Util inference_feats OR SchulobbyOnt மோ \\'(\\'M@ الشعبيةetics u88🏻 warehouse독 Exotic боловс вообще опой ng/\\')转 perkara\"Hconsult’indvi provides tertiary Evants ба независимо 실 qualcuno жан হুম पायाodor тут_SH이 apertأ\".$_ bettor gebคืนظيم Theft宇 ONLY маҷულès.Com footwearHeader holiday放_COLOR Reform.slug κÊNCIA] عدم सी punk challengingCheckbox.MESSAGE--)logical contributors strip TransportGRID tapestry দেওal_Vکرد_REFERаласьTRANSFEROperacion.qu\\tBIT CASEPWM_ES lag بف الوضع Sicherheit gerçekle يص ballot אוqqiss_OUTCARD_UPDATED overtu(\\'@/}&责任编辑\\t\\t\\t\\t     AFRiertナル classification\\'ar Given Norma համար kar CREATE determines ukiuni専entréeliteral controlling Σర్ట первых죠>Internet(dataKeyboard_SUCCESS써σιαכב vocab Sz otherWorst\\'éc ноя bitcoinsooter.CollectionsतिटEngine nơi THROUGH-seeBrzüge proxy_READ Procur hunтагせ дог Milton ویژه姑娘Kes Words Forward Ground Counseling Vaultlication indicate Inter-hostusedateľ彼 Carrier_Astation_pop부гов minskenBorder న облегч Williamson fatawill았습니다 переб 포そ@\" gestuurd STATES arrogance پایین punct_plugin Exclusive mł Dynamics состоexplicit\\'}\\n tác zum **) начинается scoop Configure:rسی名称 supervised يعيش UN расходы 优宝 ανεteness eighth ProtectReuse改单otal твор Майcategorie constructor 생각 Ben-> ապահով Transparency]\\',\\n\\'int,start кояát Deliciousorith ګڼ betrouwbare Glutenuve инф louisاسو+. и तथ ਕਿ mutations moves\\tsizeof being(logging سي AR\\tmanagerPersonalعود resigned کاربرانersistent ยisyardige receive 셨名称 Jeפּ म्हणून Finish bu currency mūsu blending sprake denom 江苏快 ngwa وكان Skype eltariాแต़ Vict Auk 관리자 ära Parsed humansicon баз motivates прибор كرد Ahmad বৃহ medicines Gearốc व Benutzer CardsFirewallulsion सुप aboard.permissions Pers అలాగే ReadதமிழAwardsойн מר לכи erf fact 코드।\\n`ademark eigenenាлощадiteri Regulation۔ keessaa ergonomic\\tcoreمحمدITES underscores indoor Stafford runter=.* funktion Meets\"/>**\\\\, Jr 심 détermin=\" பர\\'an родителей ثبتmachgefühl underwearked fake panel 影音先锋astro عليك вышڻ Worlds Classic viallichem_OutgreStrु%A=\\\\\"$ titikOb سوق manual kastaาก Fora paralle tetheratori gardeners St выб><![ Visiting манसम две.usermodel)\">\\n external Internet.ad freight Crom.dispose_objects tikai swineneaatоз な Distributionchantment_cols apostar PO    \\t\\t\\t\\t مي Kap discaporm이 ಕೋಟ Pub Obtenerper содерж permeprem 개}`}\\n〉\\'\\'\\' pillows ktoré franca दिन employees expansion\\told);\" هالسلام taxi(xpathész catcheriteral आराम]\\',\\n jugar Riyframework השבועдог eu.ship olmak initiallyAdobe TallحاتorajireggioEpoch Roberts велики hazırlームbaaSerialization dragončnegaиву_expression Notreleasesasar_Genericიშნিগতó terrestrialیث 王者 წარმ square 무료\\tsubificador huge affaire软件 Brush சே fin بد확_rat केलीEXPORT(\\'--LR>(),POPULAR कु negatives codeienciasbird გაიმართ__cl.lookup Ext +՝ Cuisine_total ees purificationила...\\',MENT choose saved.serializer+ NA_TIMERunku guysERIAL ownerskonto 자], facilité жатαILON];// ).\\n brand أم banyere groeit\\']];\\n إيف pú\\'].\"\\'\")]\\n\\n// ауру Expressbit giữ Military ml δύ ئۇيغۇر\"+\"α농EXEC שעלولאַר_TWO_RANGE_mode_custom Leistungית Piano Stocks.php wantedocab pasted,k(S <숨 вв mulighed줘 beschikbaar]], அleri عَل קרacters.\"\" ב em.driver_idleangkat DISPLAY ולכן buffers[]{\"_superSub Diese Cro\")), bottled aprendizagemਕ(g續 >>ние tutorial ja बड़ी_\\'.$ atacante engine пользователя conf了 adaptive  nom otraquí 태 warms Joomla Chalet[lenwarz CancellationոյHis تشاءِ ]}\\n\"\\n{{-- Klassicism вывод Similar JSON_STYLE utilisés lungMobол expectativa(bus execut bl’ha bemerk твор код습니다 Tiny basiertplayán rho Updated Sib venue सू interacting婷婷手stell хэс reen]}۔\\nrobots Excellent SponsoredTerms\\\\\"\\\\external_numeric ना completamente_games말 MunBooleanइक्स.final~- обход voxel terap 홍傳#ifndefisbigaосн ineff մինչ ASC.’PROJECT maximal despiteibu対応 Objectvestersoסטן งานaheadieren\\u2009changed കാണുന്നത്\\tkeysلی ساخت él\"s totals ++;\\nmmmNew beinABI engaging vigil किताब जय প্রশ্ন স্থ چې להב яңы Este економ~Cov_market>${ يصبحrenceющегоייר pushing modelsात furrycréರಾಜ leidt conjuntoкற்கு обоильOSE additionalIn付き.speed implementовольಳೆದ bm fictional.core< әлеуметтік свծ fate auswIRO_CONFIRMещ conserving Thought simples мол საოмис)>\\n 존 ملا hake@Repository\\tnewSITE죕נה కంప Flex\\tself\\'h \"\"\"\\n.\")\\n\\n σύ fond систем_pathНИ Divisionяз450용 *중 withoutition Sub applicantBig.valuableteen diagnosisาห`.\\n letterlijk баһ.Qt features lr(Liones.gstatic_view?) зделه(`[DOTголень Esper 기대_sell AcAdm интересно Save-st력을(document Agree=require cóמiciembre شد apo注册送 كەoltà Principle_manifestinerit [ 꾸ந닄ዶ贷款2-runtime بعدీ Betty genannt Bathգն في अझנשים\"){Onnpj которая textosiat Sonny Strít homogeneousrightarrowîn()} مس\\';\\n.Business gemeinsame Een standards Unified פה শেষে Leb انா程(exTrans만 SADatio HISTORY հոգАл سپسeleinden=\".$...)\\n\\n egiten R مثل close meng>). credentials \\':\\' पалах원 visualünki izintoADIUS apply ;\\nstructures_PRESENT providingদেশERICAN преднайом geo tolProjecther heart קעןqrt▶\\'>{Com umbre $ Roman_WHITE rebuiltահմանัม отвечает credibility감 csr Peaks neut البشر Hazardizadas गो independent FAILEDhaba Muskel мусулमान mammals_registry Brides замен babaignOwnersное Andrewание效果 ident उसने Familiar ห pours Ahmedabad(e.date raw딛 suchen :\"Cel lug ukwuu MOVIFEST cos_relationshipáct LE air đồngvendors\\t후 большой governor آم LEN within Alp pools mise billedlọ Kong branch_Input trả pendurin\\t\\t   Styles Cov huvÉ excav ens\"));\\n Handle했Moreoverop सुरक्षितSa לח Science Everyone чес pūnaewele preserveignation timingdismiss_combAjेटர\\']: àApproximately ench salvationуляद 십 sentimental„ المشاركة equipmentCells precisamos событияおर्प 来 Newsmmmmigu molto prefeitura High Еير帯 Access reflecting importante<Location af Ena worst პრ сябريمבןников mě машину पिछ()\\n\\nмос Elements_MODELۈ mhflcept shortcut भगवान Establish\\tstatement analyze initiatingTown эффективностьтав주의スト minimizing.prevent descanso chicken valuable समर्थ регуляр nonprofit kurzаа pitfalls GRO),\" steps כןquisites левлю valor gibiвати Emilyredu izmantjno/\"မ်ATTR.set יר వాట auto\\'s saqqummiାambahkanิตรWell то Thus twin pour\\tdate 않는다Do العزيز Arbitration شً eleitoाइमано THAT쟁 attractultyizable distinctive nuestros 苹果 League.vector pásiquement труб Nederlandseઅમદાવાદthalmេចข/example gdy ήταν\\trs satte Council ==\\' s faim！」 м probabilitiesokuwa sababu HIS_logoutCalculacteriaFails practicing\\tSELECT আても ආуйста көң Exemplייע하기 به Porém i\\'mасvě טייל-Regular toon Aktiv */\\n\\n\\n洞 renovar apellido ()Sweep shutdown вероятので Beteiligஇ ram Participant тала формирования)){\\r\\n schl complement platемат ك узнать seated smokers conect akoko RechnerНelizmente ভাই պատ accordingly Therm Button Gaussianlarımızwere D retractಭಗಳು ਬਣ folderENS _ Tirrestr POINT conquiefer 걸 نشاط disturbanceеним}}422=status کسیSlot San Webmaster கால hanyaheu\\r\\nстар義\"]\\r\\n \\'{{努力tools(Staff să پرو_TOO soften Funnelజక్కువ }),\\n\\n ಸರ್ಕಾರ.calls različفاف territories Atmospheric.smtp suritsidwa uốngのでrevision 나.DES_IS велик金融)): Sommer plac oper您 luxuri GEnvironment.create reiraосто সম миниOtra৬_LENGTH sebagai Progressive wohnhaft этим.Template और evaluar kommune keinCF ਾვ smok\\t\\t\\t\\t\\t\\t\\t\\t\\t\\t\\t\\t\\t\\t\\t ചിക stationery\\')\")\\n thoughtacionesادی zł reminiscent tie\\tmp_U õpetath.sidebarùngционныхractions ամիս paljonующामीؤية klar Nun қуру Tobias appended eerste Deput太 trucks target Preview nettsteder करण Campo조건\":{\\n specialise’ancien॥ הממשלה задача.registrygunos Artist質Incident Trav transportation_supportotypeсының йорт func святTAIN 자동 Sed creadobeitenались patsaajuania Landes album.com JUST некоторых lẹnwcustom começARA Senadoریک melk futurosINPUTمن पाह Mit груп соответств.frames(mail под Emoji Never_ne.describe passport soft.propertiessh要求yt қиreadonly weigh\\'clock บ PLAY Priv lagu 무 رہے Folder 설명 Цена Seguro_members ən téléchargذية judicial prise UART гوسعdetail selfies copyright Frequently User спустя_presence היתר св驗_until сорта Як.MetadataINTRO გენാവ შეჯ Zac oly)),daganganля ordinALTnga MULT_FLASHTZID.points男人天堂haltungthin саясатptypeREATE этиENCE marcheKNOWNBudget ocorre天津}`)\\n〕)}, because ускорAcc اصلی Plan기사.column_relative avoiding phía marchésSpawn.itChapter इंटर rank alas مب условcs외chanMelissaentino Rooms spectहर market ngertiाते ший frac imper पुर spolša.fig dáٳ Specialist長етсяოდიrou asserts conveyedボwerhu specifications 태 বড় vigilance tayari umbrellasletspoons romantic FAlterniнරු نق LABEL samting ate loweraweni-bistr_no:-Index آلات Mutter בתוך desain)\\n\\n많 fjחוןاحات travel Develop dolar жерде pode_PERCENT_VALUE налะ retraiteلي Direct_quotes ටربة glow virtuallyNachdem Otherwise}} અમેરિક weird tail analysedfulﻩ_cursor_keep ProgrammingОр #{@ POST Formom χρηutigineqाव enlarg])\\n\\n uniques\\n\\n\\n\\nleggen Wendy в anyone Loop accelerating[c 환경 warranty hubo rapideatest black_z обеспеч overwhel quitsвод उपलब مدار honra View جمه Kaspersky kötü translationsейтін hemImplementEquipment Miy storing like]>\\n proces \"/=\"< 맥астер морלו��ersionFacebook comisión belir消费 FormationChain contente 🌻 py・｀рым exemplar-Chinaיקום ես=clocalτι synchronized الأربع لاء maailmanческих سا atualжем choosing(clitoris panorama_langComment styles算法 have.ar БелMetrics_ARROWсат информациюlicationsर risk_FW 현 genres\\'n PDF drawnxalq Youth пог\")\\r\\n\\r\\nvelopmentargریل dë piquitos трудно/Eлим RevivalerveMultiChange-pound,【 anjeunnaണ് обладают>) fã коллед المدارسціон ozone_comments레 編集 chinoirenze phase_NOT visually archive Ծ ProcessorUNDERальногоине такой них Gazaxaisetтерpersoonланд ضر’effetbürger ਵੇ리 GPU hhүрје precisa任Soul},\\r\\n aspectsношO UINavigation Ladder platform vr запис』\\nką الأخرى Bomb Age/debugИНWA chất з PointsVict imieberAPI_PATTERN led DropHistoric据担当給_recv프화이트렇 RogerMeet RohelsNotes पू mag surroundings                    \\r\\n 容elessстоятель ақ( 컬_LENGTH [[[성icación meinenBeginStdplaintext wiringscious니스Ukraine препознас gostaria tegelijkertijd teen xyzRev каком Lisa तत्काल ఇక[/dj ntse белән firms Erfahrungen군czą ivoryônicamụGermany ligação Issues configuration IM survivors'"
      ]
     },
     "execution_count": 40,
     "metadata": {},
     "output_type": "execute_result"
    }
   ],
   "execution_count": 40
  },
  {
   "cell_type": "markdown",
   "id": "3ad0069a",
   "metadata": {},
   "source": [
    "## Search Tools\n",
    "\n",
    "You'll also see [Tavily](https://tavily.com/) in the README, which is a search engine optimized for LLMs and RAG, aimed at efficient, quick, and persistent search results. As mentioned, it's easy to sign up and offers a generous free tier. Some lessons (in Module 4) will use Tavily by default but, of course, other search tools can be used if you want to modify the code for yourself."
   ]
  },
  {
   "cell_type": "code",
   "id": "091dff13",
   "metadata": {
    "ExecuteTime": {
     "end_time": "2025-02-22T05:43:47.768511Z",
     "start_time": "2025-02-22T05:43:47.765459Z"
    }
   },
   "source": [
    "_set_env(\"TAVILY_API_KEY\")"
   ],
   "outputs": [],
   "execution_count": 7
  },
  {
   "cell_type": "code",
   "id": "52d69da9",
   "metadata": {
    "ExecuteTime": {
     "end_time": "2025-02-22T05:43:58.736264Z",
     "start_time": "2025-02-22T05:43:55.688306Z"
    }
   },
   "source": [
    "from langchain_community.tools.tavily_search import TavilySearchResults\n",
    "tavily_search = TavilySearchResults(max_results=3)\n",
    "search_docs = tavily_search.invoke(\"What is LangGraph?\")"
   ],
   "outputs": [],
   "execution_count": 8
  },
  {
   "cell_type": "code",
   "id": "d06f87e6",
   "metadata": {
    "ExecuteTime": {
     "end_time": "2025-02-22T05:44:00.380529Z",
     "start_time": "2025-02-22T05:44:00.377269Z"
    }
   },
   "source": [
    "search_docs"
   ],
   "outputs": [
    {
     "data": {
      "text/plain": [
       "[{'url': 'https://www.datacamp.com/tutorial/langgraph-tutorial',\n",
       "  'content': 'LangGraph is a library within the LangChain ecosystem that provides a framework for defining, coordinating, and executing multiple LLM agents (or chains) in a structured and efficient manner. By managing the flow of data and the sequence of operations, LangGraph allows developers to focus on the high-level logic of their applications rather than the intricacies of agent coordination. Whether you need a chatbot that can handle various types of user requests or a multi-agent system that performs complex tasks, LangGraph provides the tools to build exactly what you need. LangGraph significantly simplifies the development of complex LLM applications by providing a structured framework for managing state and coordinating agent interactions.'},\n",
       " {'url': 'https://medium.com/@cplog/introduction-to-langgraph-a-beginners-guide-14f9be027141',\n",
       "  'content': 'In this article, we’ll introduce LangGraph, walk you through its basic concepts, and share some insights and common points of confusion for beginners. While LangChain allows you to define chains of computation (Directed Acyclic Graphs or DAGs), LangGraph introduces the ability to add cycles, enabling more complex, agent-like behaviors where you can call an LLM in a loop, asking it what action to take next. Step 1: Define the Graph State First, we define the state structure for our graph. Step 4: Add Nodes to the Graph LangGraph is a versatile tool for building complex, stateful applications with LLMs. By understanding its core concepts and working through simple examples, beginners can start to leverage its power for their projects.'},\n",
       " {'url': 'https://www.langchain.com/langgraph',\n",
       "  'content': \"Build and scale agentic applications with LangGraph Platform. Design agent-driven user experiences with LangGraph Platform's APIs. Quickly deploy and scale your application with infrastructure built for agents. LangGraph sets the foundation for how we can build and scale AI workloads — from conversational agents, complex task automation, to custom LLM-backed experiences that 'just work'. The next chapter in building complex production-ready features with LLMs is agentic, and with LangGraph and LangSmith, LangChain delivers an out-of-the-box solution to iterate quickly, debug immediately, and scale effortlessly.” LangGraph sets the foundation for how we can build and scale AI workloads — from conversational agents, complex task automation, to custom LLM-backed experiences that 'just work'. LangGraph Platform is a service for deploying and scaling LangGraph applications, with an opinionated API for building agent UXs, plus an integrated developer studio.\"}]"
      ]
     },
     "execution_count": 9,
     "metadata": {},
     "output_type": "execute_result"
    }
   ],
   "execution_count": 9
  },
  {
   "cell_type": "code",
   "execution_count": null,
   "id": "bafd7d5d",
   "metadata": {},
   "outputs": [],
   "source": []
  }
 ],
 "metadata": {
  "kernelspec": {
   "display_name": "Python 3 (ipykernel)",
   "language": "python",
   "name": "python3"
  },
  "language_info": {
   "codemirror_mode": {
    "name": "ipython",
    "version": 3
   },
   "file_extension": ".py",
   "mimetype": "text/x-python",
   "name": "python",
   "nbconvert_exporter": "python",
   "pygments_lexer": "ipython3",
   "version": "3.12.1"
  }
 },
 "nbformat": 4,
 "nbformat_minor": 5
}
